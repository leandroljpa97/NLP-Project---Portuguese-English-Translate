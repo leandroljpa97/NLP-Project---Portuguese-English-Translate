{
 "cells": [
  {
   "cell_type": "markdown",
   "metadata": {},
   "source": [
    "<a> </a>\n",
    "# Translater - Build a model and train \n",
    "## Encoder - Decoder Model "
   ]
  },
  {
   "cell_type": "markdown",
   "metadata": {},
   "source": [
    "<a> </a>\n",
    "## 1) Imports"
   ]
  },
  {
   "cell_type": "code",
   "execution_count": 1,
   "metadata": {},
   "outputs": [],
   "source": [
    "import tensorflow as tf\n",
    "from tensorflow.keras import layers, Input, Model\n",
    "from tensorflow.keras.preprocessing.text import Tokenizer\n",
    "import pandas as pd\n",
    "import numpy as np\n",
    "from tensorflow.keras.preprocessing.sequence import pad_sequences\n",
    "from tensorflow.keras.utils import to_categorical\n",
    "from tensorflow.keras.models import Sequential\n",
    "from tensorflow.keras.layers import Dense\n",
    "from tensorflow.keras.layers import Flatten\n",
    "from tensorflow.keras.layers import Embedding, LSTM, TimeDistributed,RepeatVector\n"
   ]
  },
  {
   "cell_type": "markdown",
   "metadata": {},
   "source": [
    "<a> </a>\n",
    "## 2) Load dataset - validation and training set"
   ]
  },
  {
   "cell_type": "code",
   "execution_count": 2,
   "metadata": {},
   "outputs": [],
   "source": [
    "def loadDataSet(filename):\n",
    "    return pd.read_csv(filename)\n",
    "    \n",
    " \n",
    "#load datasets\n",
    "train = loadDataSet('portugueseEnglishTrain.csv')\n",
    "valid = loadDataSet('portugueseEnglishValid.csv')"
   ]
  },
  {
   "cell_type": "code",
   "execution_count": 3,
   "metadata": {},
   "outputs": [
    {
     "data": {
      "text/html": [
       "<div>\n",
       "<style scoped>\n",
       "    .dataframe tbody tr th:only-of-type {\n",
       "        vertical-align: middle;\n",
       "    }\n",
       "\n",
       "    .dataframe tbody tr th {\n",
       "        vertical-align: top;\n",
       "    }\n",
       "\n",
       "    .dataframe thead th {\n",
       "        text-align: right;\n",
       "    }\n",
       "</style>\n",
       "<table border=\"1\" class=\"dataframe\">\n",
       "  <thead>\n",
       "    <tr style=\"text-align: right;\">\n",
       "      <th></th>\n",
       "      <th>portuguese</th>\n",
       "      <th>english</th>\n",
       "    </tr>\n",
       "  </thead>\n",
       "  <tbody>\n",
       "    <tr>\n",
       "      <th>0</th>\n",
       "      <td>this is where my dad works</td>\n",
       "      <td>meu pai trabalha aqui</td>\n",
       "    </tr>\n",
       "    <tr>\n",
       "      <th>1</th>\n",
       "      <td>tom and mary both failed the exam</td>\n",
       "      <td>tom e mary ambos falharam no exame</td>\n",
       "    </tr>\n",
       "    <tr>\n",
       "      <th>2</th>\n",
       "      <td>tom knew what had to be done</td>\n",
       "      <td>tom sabia o que tinha que ser feito</td>\n",
       "    </tr>\n",
       "    <tr>\n",
       "      <th>3</th>\n",
       "      <td>these are real</td>\n",
       "      <td>estas sao verdadeiras</td>\n",
       "    </tr>\n",
       "    <tr>\n",
       "      <th>4</th>\n",
       "      <td>tom thought i knew mary</td>\n",
       "      <td>tom pensou que eu conhecia mary</td>\n",
       "    </tr>\n",
       "    <tr>\n",
       "      <th>...</th>\n",
       "      <td>...</td>\n",
       "      <td>...</td>\n",
       "    </tr>\n",
       "    <tr>\n",
       "      <th>11995</th>\n",
       "      <td>tom is very dangerous</td>\n",
       "      <td>tom e muito perigoso</td>\n",
       "    </tr>\n",
       "    <tr>\n",
       "      <th>11996</th>\n",
       "      <td>would you mind if we talked about this later</td>\n",
       "      <td>voce se importaria se falassemos disso depois</td>\n",
       "    </tr>\n",
       "    <tr>\n",
       "      <th>11997</th>\n",
       "      <td>i wasnt the one who helped tom</td>\n",
       "      <td>nao fui eu quem ajudou tom</td>\n",
       "    </tr>\n",
       "    <tr>\n",
       "      <th>11998</th>\n",
       "      <td>everything stopped</td>\n",
       "      <td>todos pararam</td>\n",
       "    </tr>\n",
       "    <tr>\n",
       "      <th>11999</th>\n",
       "      <td>youre a good employee</td>\n",
       "      <td>voce e um bom empregado</td>\n",
       "    </tr>\n",
       "  </tbody>\n",
       "</table>\n",
       "<p>12000 rows × 2 columns</p>\n",
       "</div>"
      ],
      "text/plain": [
       "                                         portuguese  \\\n",
       "0                        this is where my dad works   \n",
       "1                 tom and mary both failed the exam   \n",
       "2                      tom knew what had to be done   \n",
       "3                                    these are real   \n",
       "4                           tom thought i knew mary   \n",
       "...                                             ...   \n",
       "11995                         tom is very dangerous   \n",
       "11996  would you mind if we talked about this later   \n",
       "11997                i wasnt the one who helped tom   \n",
       "11998                            everything stopped   \n",
       "11999                         youre a good employee   \n",
       "\n",
       "                                             english  \n",
       "0                              meu pai trabalha aqui  \n",
       "1                 tom e mary ambos falharam no exame  \n",
       "2                tom sabia o que tinha que ser feito  \n",
       "3                              estas sao verdadeiras  \n",
       "4                    tom pensou que eu conhecia mary  \n",
       "...                                              ...  \n",
       "11995                           tom e muito perigoso  \n",
       "11996  voce se importaria se falassemos disso depois  \n",
       "11997                     nao fui eu quem ajudou tom  \n",
       "11998                                  todos pararam  \n",
       "11999                        voce e um bom empregado  \n",
       "\n",
       "[12000 rows x 2 columns]"
      ]
     },
     "execution_count": 3,
     "metadata": {},
     "output_type": "execute_result"
    }
   ],
   "source": [
    "#limitation to be solved - memory\n",
    "train = train[:12000]\n",
    "train"
   ]
  },
  {
   "cell_type": "code",
   "execution_count": 4,
   "metadata": {},
   "outputs": [
    {
     "data": {
      "text/html": [
       "<div>\n",
       "<style scoped>\n",
       "    .dataframe tbody tr th:only-of-type {\n",
       "        vertical-align: middle;\n",
       "    }\n",
       "\n",
       "    .dataframe tbody tr th {\n",
       "        vertical-align: top;\n",
       "    }\n",
       "\n",
       "    .dataframe thead th {\n",
       "        text-align: right;\n",
       "    }\n",
       "</style>\n",
       "<table border=\"1\" class=\"dataframe\">\n",
       "  <thead>\n",
       "    <tr style=\"text-align: right;\">\n",
       "      <th></th>\n",
       "      <th>portuguese</th>\n",
       "      <th>english</th>\n",
       "    </tr>\n",
       "  </thead>\n",
       "  <tbody>\n",
       "    <tr>\n",
       "      <th>0</th>\n",
       "      <td>were going to make it</td>\n",
       "      <td>nos vamos fazer</td>\n",
       "    </tr>\n",
       "    <tr>\n",
       "      <th>1</th>\n",
       "      <td>tom tried the door</td>\n",
       "      <td>tom tentou abrir a porta</td>\n",
       "    </tr>\n",
       "    <tr>\n",
       "      <th>2</th>\n",
       "      <td>tom says a lot of things he doesnt mean</td>\n",
       "      <td>o tom diz muitas coisas que ele nao quer dizer</td>\n",
       "    </tr>\n",
       "    <tr>\n",
       "      <th>3</th>\n",
       "      <td>tom divorced mary</td>\n",
       "      <td>o tom se divorciou da mary</td>\n",
       "    </tr>\n",
       "    <tr>\n",
       "      <th>4</th>\n",
       "      <td>i have a lot of things to do</td>\n",
       "      <td>estou com um bocado de coisas a serem feitas</td>\n",
       "    </tr>\n",
       "    <tr>\n",
       "      <th>...</th>\n",
       "      <td>...</td>\n",
       "      <td>...</td>\n",
       "    </tr>\n",
       "    <tr>\n",
       "      <th>2995</th>\n",
       "      <td>you know that i cant do that dont you</td>\n",
       "      <td>voces sabem que nao posso fazer isso nao e</td>\n",
       "    </tr>\n",
       "    <tr>\n",
       "      <th>2996</th>\n",
       "      <td>scientists havent found a cure for cancer yet</td>\n",
       "      <td>os cientistas ainda nao descobriram uma cura p...</td>\n",
       "    </tr>\n",
       "    <tr>\n",
       "      <th>2997</th>\n",
       "      <td>tom and mary played together a lot when they w...</td>\n",
       "      <td>tom e mary sempre brincavam juntos quando eram...</td>\n",
       "    </tr>\n",
       "    <tr>\n",
       "      <th>2998</th>\n",
       "      <td>can i come in</td>\n",
       "      <td>posso entrar</td>\n",
       "    </tr>\n",
       "    <tr>\n",
       "      <th>2999</th>\n",
       "      <td>she passed away yesterday afternoon</td>\n",
       "      <td>ela faleceu ontem a tarde</td>\n",
       "    </tr>\n",
       "  </tbody>\n",
       "</table>\n",
       "<p>3000 rows × 2 columns</p>\n",
       "</div>"
      ],
      "text/plain": [
       "                                             portuguese  \\\n",
       "0                                 were going to make it   \n",
       "1                                    tom tried the door   \n",
       "2               tom says a lot of things he doesnt mean   \n",
       "3                                     tom divorced mary   \n",
       "4                          i have a lot of things to do   \n",
       "...                                                 ...   \n",
       "2995              you know that i cant do that dont you   \n",
       "2996      scientists havent found a cure for cancer yet   \n",
       "2997  tom and mary played together a lot when they w...   \n",
       "2998                                      can i come in   \n",
       "2999                she passed away yesterday afternoon   \n",
       "\n",
       "                                                english  \n",
       "0                                       nos vamos fazer  \n",
       "1                              tom tentou abrir a porta  \n",
       "2        o tom diz muitas coisas que ele nao quer dizer  \n",
       "3                            o tom se divorciou da mary  \n",
       "4          estou com um bocado de coisas a serem feitas  \n",
       "...                                                 ...  \n",
       "2995         voces sabem que nao posso fazer isso nao e  \n",
       "2996  os cientistas ainda nao descobriram uma cura p...  \n",
       "2997  tom e mary sempre brincavam juntos quando eram...  \n",
       "2998                                       posso entrar  \n",
       "2999                          ela faleceu ontem a tarde  \n",
       "\n",
       "[3000 rows x 2 columns]"
      ]
     },
     "execution_count": 4,
     "metadata": {},
     "output_type": "execute_result"
    }
   ],
   "source": [
    "#limitation to be solved\n",
    "valid = valid[:3000]\n",
    "valid\n"
   ]
  },
  {
   "cell_type": "markdown",
   "metadata": {},
   "source": [
    "<a></a>\n",
    "## 3) Transform words in integers and prepare the data "
   ]
  },
  {
   "cell_type": "code",
   "execution_count": 5,
   "metadata": {},
   "outputs": [
    {
     "name": "stdout",
     "output_type": "stream",
     "text": [
      "Portuguese Vocabulary Size: 5134\n",
      "Portuguese Max Length: 25\n",
      "English Vocabulary Size: 7579\n",
      "English Max Length of one Sentence: 27\n"
     ]
    }
   ],
   "source": [
    "# use the Keras Tokenize class to map words to integers, as needed for modeling.\n",
    "\n",
    "# fit a tokenizer\n",
    "def create_tokenizer(sentence):\n",
    "    tokenizer = Tokenizer()\n",
    "    tokenizer.fit_on_texts(sentence)\n",
    "    return tokenizer\n",
    "\n",
    "#find the size longest sentence\n",
    "def max_length(lines):\n",
    "    return max(len(line.split()) for line in lines)\n",
    "\n",
    "#all dataset\n",
    "dataset = pd.concat([train, valid])\n",
    "valid = np.asarray(valid)\n",
    "train = np.asarray(train)\n",
    "dataset = np.asarray(dataset)\n",
    "\n",
    "\n",
    "# prepare portuguese tokenizer\n",
    "port_tokenizer = create_tokenizer(dataset[:, 0])\n",
    "port_vocab_size = len(port_tokenizer.word_index) + 1\n",
    "port_length = max_length(dataset[:, 0])\n",
    "print('Portuguese Vocabulary Size: %d' % port_vocab_size)\n",
    "print('Portuguese Max Length: %d' % (port_length))\n",
    "\n",
    "\n",
    "# prepare english tokenizer\n",
    "eng_tokenizer = create_tokenizer(dataset[:, 1])\n",
    "eng_vocab_size = len(eng_tokenizer.word_index) + 1\n",
    "eng_length = max_length(dataset[:, 1])\n",
    "print('English Vocabulary Size: %d' % eng_vocab_size)\n",
    "print('English Max Length of one Sentence: %d' % (eng_length))\n",
    "\n"
   ]
  },
  {
   "cell_type": "code",
   "execution_count": 6,
   "metadata": {},
   "outputs": [],
   "source": [
    "# encode and pad sequences\n",
    "\n",
    "#input will be word embedding vector -The benefit of this approach is that different words with similar meaning will have a similar representation.\n",
    "#output will be one-hot encoding!\n",
    "\n",
    "#Each input and output sequence must be encoded to integers and padded to the maximum phrase length. \n",
    "#This is because we will use a word embedding for the input sequences and one hot encode the output sequences \n",
    "def encode_sequences(tokenizer, length, lines):\n",
    "    # integer encode sequences\n",
    "    X = tokenizer.texts_to_sequences(lines)\n",
    "    # pad sequences with 0 values\n",
    "    X = pad_sequences(X, maxlen=length, padding='post')\n",
    "    return X\n",
    "\n",
    "\n",
    "\n",
    "# one hot encode target sequence\n",
    "#The output sequence is in one-hot encoded format\n",
    "#This is because the model will predict the probability of each word in the vocabulary as output.\n",
    "def oneHotEncoding_output(sequences, vocab_size):\n",
    "    ylist = list()\n",
    "    for sequence in sequences:\n",
    "        encoded = to_categorical(sequence, num_classes=vocab_size)\n",
    "        ylist.append(encoded)\n",
    "    y = np.asarray(ylist)\n",
    "    y = y.reshape(sequences.shape[0], sequences.shape[1], vocab_size)\n",
    "    return y\n",
    "\n",
    "trainPort = encode_sequences(port_tokenizer, port_length, train[:, 0])\n",
    "trainEnglish = encode_sequences(eng_tokenizer, eng_length, train[:, 1])\n",
    "trainEnglishD = oneHotEncoding_output(trainEnglish, eng_vocab_size)\n",
    "# prepare validation data\n",
    "validPort = encode_sequences(port_tokenizer, port_length, valid[:, 0])\n",
    "validEnglish = encode_sequences(eng_tokenizer, eng_length, valid[:, 1])\n",
    "validEnglishD = oneHotEncoding_output(validEnglish, eng_vocab_size)\n",
    "\n"
   ]
  },
  {
   "cell_type": "code",
   "execution_count": 7,
   "metadata": {},
   "outputs": [
    {
     "data": {
      "text/plain": [
       "array([[ 16,   7,  71, ...,   0,   0,   0],\n",
       "       [  2,  36,  24, ...,   0,   0,   0],\n",
       "       [  2, 188,  25, ...,   0,   0,   0],\n",
       "       ...,\n",
       "       [  1, 166,   5, ...,   0,   0,   0],\n",
       "       [172, 623,   0, ...,   0,   0,   0],\n",
       "       [ 54,   6,  91, ...,   0,   0,   0]])"
      ]
     },
     "execution_count": 7,
     "metadata": {},
     "output_type": "execute_result"
    }
   ],
   "source": [
    "trainPort"
   ]
  },
  {
   "cell_type": "code",
   "execution_count": null,
   "metadata": {},
   "outputs": [],
   "source": [
    "#Isto é o que entra no embedding layer ou seja é a frase de tamanho = 27 pois é o tamanho maximo\n",
    "trainEnglish.shape"
   ]
  },
  {
   "cell_type": "code",
   "execution_count": null,
   "metadata": {},
   "outputs": [],
   "source": [
    "#isto é as labels. tem de estar em one-hot-encoding para dizer qual é a palavra esperada,\n",
    "#pois a saida é uma softmax (distribuição de tamanho = tamanho dicionario, que neste caso é 7579)\n",
    "trainEnglishD.shape"
   ]
  },
  {
   "attachments": {
    "image.png": {
     "image/png": "[encoded data removed]"
    }
   },
   "cell_type": "markdown",
   "metadata": {},
   "source": [
    "<a> </a>\n",
    "# 4) Build the model\n",
    "\n",
    "In LSTM case, besides h_t (hidden state), there is also $c_t$.\n",
    "We can just think of $c_t$ as another type of hidden state. Similar to $h_0^l$, $c_0^l$ will be initialized to a tensor of all zeros. Also, our context vector will now be both the final hidden state and the final cell state, i.e. $z^l = (h_T^l, c_T^l)$.\n",
    "$c_t$ is the cell state that exists in LSTM\n",
    "Let’s go back to our example of a language model trying to predict the next word based on all the previous ones. In such a problem, the cell state might include the gender of the present subject, so that the correct pronouns can be used. When we see a new subject, we want to forget the gender of the old subject, and update the cell state with the new subject. Basically, is to preserve information/context. \n",
    "\n",
    "\n",
    "Regular RNNs do have just the hidden state and no cell state. It turns out that RNNs have difficulty of accessing information from a long time ago.\n",
    "\n",
    "For instance, check these two long sentences:\n",
    "\n",
    "Cows, that eat green green ... green grass are OK.\n",
    "\n",
    "Cow, that eat green green ... green grass is OK.\n",
    "\n",
    "It would be very hard for RNN to learn the singular/plural dependency, but LSTM are capable of doing that.\n",
    "\n",
    "\n",
    "In this case we are going to use 1 RNN Layer, but we could use 2 RNN layer in the encoder. And this way it would be like in the next figure:\n",
    "\n",
    "![image.png](attachment:image.png)\n",
    "\n",
    "input_dim - is the size/dimensionality of the one-hot vectors that will be input to the encoder. This is equal to the input (source) vocabulary size.\n",
    "\n",
    "emb_dim - is the dimensionality of the embedding layer. This layer converts the one-hot vectors into dense vectors with emb_dim dimensions.\n",
    "\n"
   ]
  },
  {
   "cell_type": "code",
   "execution_count": 8,
   "metadata": {},
   "outputs": [],
   "source": [
    "def seq2seq_model_builder(src_vocab_size, target_vocab_size, src_max_length, target_max_length, embedding_dim):\n",
    "    \n",
    "    encoder_inputs = Input(shape=(src_max_length,))\n",
    "    # a camada embedding basicamente cria uma matriz de tamanho igual ao tamanho do vocabulario\n",
    "    # assim a posição 0 corresponde à palavra 0 do vocabulario, a palavra 100 corresponde a palavra 100 do vocabulario.\n",
    "    #nao esquecer que cada frase ta codificada de acordo com o tokenId.. fica tipo [100, 150, 500]. depois quando esta frase entra\n",
    "    #no embedding, vai, para a primeira palavra, à posição 100 da matriz que há no embedding, e nessa posição haverá um vetor\n",
    "    # de tamanho 256 neste caso (que foi o que definimos como tamanho do embedding vector). O numero máximo que se pode encontrar numa frase\n",
    "    # é igual ao tamanho do vocabulario, que por sua vez é o tamanho da matriz de embedding \n",
    "    #O Embedding guarda uma matriz de tamanho src_vocab_size * embedding_dim\n",
    "    x = Embedding(src_vocab_size, embedding_dim, input_length= src_max_length)(encoder_inputs)\n",
    "    x, state_h, state_c = LSTM(embedding_dim,\n",
    "                           return_state=True)(x)\n",
    "    encoder_states = [state_h, state_c]\n",
    "    \n",
    "    decoder_inputs = Input(shape=(target_max_length,))\n",
    "    x = Embedding(target_vocab_size, embedding_dim,input_length= target_max_length)(decoder_inputs)\n",
    "    x = LSTM(embedding_dim, return_sequences=True)(x, initial_state=encoder_states)\n",
    "    decoder_outputs = TimeDistributed(Dense(target_vocab_size, activation='softmax'))(x)\n",
    "    \n",
    "    return Model([encoder_inputs, decoder_inputs], decoder_outputs)\n",
    "\n",
    "\n",
    "model = seq2seq_model_builder(port_vocab_size, eng_vocab_size, port_length, eng_length, 256)"
   ]
  },
  {
   "cell_type": "code",
   "execution_count": null,
   "metadata": {},
   "outputs": [],
   "source": [
    "model.compile(optimizer='adam', loss='categorical_crossentropy')\n",
    "# Note that `trainEnglishD` needs to be one-hot encoded,\n",
    "model.fit([trainPort, trainEnglish],trainEnglishD, epochs=30, batch_size=64, validation_data=[(validPort, validEnglish),validEnglishD],  verbose=1)"
   ]
  },
  {
   "cell_type": "code",
   "execution_count": null,
   "metadata": {},
   "outputs": [],
   "source": []
  }
 ],
 "metadata": {
  "kernelspec": {
   "display_name": "Python 3",
   "language": "python",
   "name": "python3"
  },
  "language_info": {
   "codemirror_mode": {
    "name": "ipython",
    "version": 3
   },
   "file_extension": ".py",
   "mimetype": "text/x-python",
   "name": "python",
   "nbconvert_exporter": "python",
   "pygments_lexer": "ipython3",
   "version": "3.7.6"
  }
 },
 "nbformat": 4,
 "nbformat_minor": 4
}
